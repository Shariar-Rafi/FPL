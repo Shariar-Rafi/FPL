{
  "nbformat": 4,
  "nbformat_minor": 0,
  "metadata": {
    "colab": {
      "provenance": []
    },
    "kernelspec": {
      "name": "python3",
      "display_name": "Python 3"
    },
    "language_info": {
      "name": "python"
    }
  },
  "cells": [
    {
      "cell_type": "code",
      "execution_count": 13,
      "metadata": {
        "id": "QszT8UYyUVhl"
      },
      "outputs": [],
      "source": [
        "import numpy as np\n"
      ]
    },
    {
      "cell_type": "code",
      "source": [
        "np.array([3.2,4,6,5])\n",
        "theta = np.linspace(0,np.pi,3)"
      ],
      "metadata": {
        "id": "3DXn80iMr6wc"
      },
      "execution_count": 17,
      "outputs": []
    },
    {
      "cell_type": "markdown",
      "source": [
        "Understanding Data Types in Python"
      ],
      "metadata": {
        "id": "p6b_NPK1tXw2"
      }
    },
    {
      "cell_type": "code",
      "source": [
        "np.array([1,2,3,4], dtype=\"str\")"
      ],
      "metadata": {
        "colab": {
          "base_uri": "https://localhost:8080/"
        },
        "id": "3A8VE_u0tdCQ",
        "outputId": "1f7aa9b1-453c-4cc2-8519-883b88fca856"
      },
      "execution_count": 3,
      "outputs": [
        {
          "output_type": "execute_result",
          "data": {
            "text/plain": [
              "array(['1', '2', '3', '4'], dtype='<U1')"
            ]
          },
          "metadata": {},
          "execution_count": 3
        }
      ]
    },
    {
      "cell_type": "code",
      "source": [
        "np.array([3,6,2,3], dtype=\"float32\")"
      ],
      "metadata": {
        "colab": {
          "base_uri": "https://localhost:8080/"
        },
        "id": "OSr4SvPBtu5r",
        "outputId": "940d3b3d-7fc5-47b9-f918-e052bf7a00f4"
      },
      "execution_count": 4,
      "outputs": [
        {
          "output_type": "execute_result",
          "data": {
            "text/plain": [
              "array([3., 6., 2., 3.], dtype=float32)"
            ]
          },
          "metadata": {},
          "execution_count": 4
        }
      ]
    },
    {
      "cell_type": "markdown",
      "source": [
        "# nested lists result in multidimensional arrays"
      ],
      "metadata": {
        "id": "6RXrQd4xt5TT"
      }
    },
    {
      "cell_type": "code",
      "source": [
        "np.array([range(i,i+3) for i in [2,4,6]])"
      ],
      "metadata": {
        "colab": {
          "base_uri": "https://localhost:8080/"
        },
        "id": "kyNgejXct9pU",
        "outputId": "5541b927-5a9e-49b8-a0f6-c80422bb9d5e"
      },
      "execution_count": 7,
      "outputs": [
        {
          "output_type": "execute_result",
          "data": {
            "text/plain": [
              "array([[2, 3, 4],\n",
              "       [4, 5, 6],\n",
              "       [6, 7, 8]])"
            ]
          },
          "metadata": {},
          "execution_count": 7
        }
      ]
    },
    {
      "cell_type": "markdown",
      "source": [
        "# Create a length-10 integer array filled with zeros"
      ],
      "metadata": {
        "id": "kYmtupXcvVCQ"
      }
    },
    {
      "cell_type": "code",
      "source": [
        "np.zeros(10, dtype=\"int\")"
      ],
      "metadata": {
        "colab": {
          "base_uri": "https://localhost:8080/"
        },
        "id": "1EDKQm6HvZ61",
        "outputId": "e2f14b60-e975-4e35-ce58-85bc00cf5862"
      },
      "execution_count": 8,
      "outputs": [
        {
          "output_type": "execute_result",
          "data": {
            "text/plain": [
              "array([0, 0, 0, 0, 0, 0, 0, 0, 0, 0])"
            ]
          },
          "metadata": {},
          "execution_count": 8
        }
      ]
    },
    {
      "cell_type": "code",
      "source": [
        "np.zeros((5,6), dtype=\"float\")"
      ],
      "metadata": {
        "colab": {
          "base_uri": "https://localhost:8080/"
        },
        "id": "zHFfAWnfvySR",
        "outputId": "6a0d45c2-28e5-4ffb-9f21-728e071ab18f"
      },
      "execution_count": 9,
      "outputs": [
        {
          "output_type": "execute_result",
          "data": {
            "text/plain": [
              "array([[0., 0., 0., 0., 0., 0.],\n",
              "       [0., 0., 0., 0., 0., 0.],\n",
              "       [0., 0., 0., 0., 0., 0.],\n",
              "       [0., 0., 0., 0., 0., 0.],\n",
              "       [0., 0., 0., 0., 0., 0.]])"
            ]
          },
          "metadata": {},
          "execution_count": 9
        }
      ]
    },
    {
      "cell_type": "markdown",
      "source": [
        "# Create a 3x5 floating-point array filled with 1s"
      ],
      "metadata": {
        "id": "AiqMgvttv7uM"
      }
    },
    {
      "cell_type": "code",
      "source": [
        "np.ones((4,5), dtype=\"float\")"
      ],
      "metadata": {
        "colab": {
          "base_uri": "https://localhost:8080/"
        },
        "id": "6WnGCYXjv8aL",
        "outputId": "41b5abad-e434-45f8-86e8-60c7ebd7cc17"
      },
      "execution_count": 10,
      "outputs": [
        {
          "output_type": "execute_result",
          "data": {
            "text/plain": [
              "array([[1., 1., 1., 1., 1.],\n",
              "       [1., 1., 1., 1., 1.],\n",
              "       [1., 1., 1., 1., 1.],\n",
              "       [1., 1., 1., 1., 1.]])"
            ]
          },
          "metadata": {},
          "execution_count": 10
        }
      ]
    },
    {
      "cell_type": "markdown",
      "source": [
        "# Create a 3x5 array filled with 3.14"
      ],
      "metadata": {
        "id": "0wimzvYtwZJR"
      }
    },
    {
      "cell_type": "code",
      "source": [
        "np.full((4,5),3.4)"
      ],
      "metadata": {
        "colab": {
          "base_uri": "https://localhost:8080/"
        },
        "id": "wsWJtgwIwZ-q",
        "outputId": "21e4530e-7ebe-47d7-eb77-bac98f562e1d"
      },
      "execution_count": 11,
      "outputs": [
        {
          "output_type": "execute_result",
          "data": {
            "text/plain": [
              "array([[3.4, 3.4, 3.4, 3.4, 3.4],\n",
              "       [3.4, 3.4, 3.4, 3.4, 3.4],\n",
              "       [3.4, 3.4, 3.4, 3.4, 3.4],\n",
              "       [3.4, 3.4, 3.4, 3.4, 3.4]])"
            ]
          },
          "metadata": {},
          "execution_count": 11
        }
      ]
    },
    {
      "cell_type": "markdown",
      "source": [
        "# Starting at 0, ending at 20, stepping by 2"
      ],
      "metadata": {
        "id": "495rYLUVxLwz"
      }
    },
    {
      "cell_type": "code",
      "source": [
        "np.arange(0,20,2)"
      ],
      "metadata": {
        "colab": {
          "base_uri": "https://localhost:8080/"
        },
        "id": "5qErzzw2xM03",
        "outputId": "6236b709-61e1-4124-afb5-4762c0f1af44"
      },
      "execution_count": 15,
      "outputs": [
        {
          "output_type": "execute_result",
          "data": {
            "text/plain": [
              "array([ 0,  2,  4,  6,  8, 10, 12, 14, 16, 18])"
            ]
          },
          "metadata": {},
          "execution_count": 15
        }
      ]
    },
    {
      "cell_type": "markdown",
      "source": [
        "#Now we can compute some trigonometric fuctions on these values:"
      ],
      "metadata": {
        "id": "XZI4ANpKyjp4"
      }
    },
    {
      "cell_type": "code",
      "source": [
        "print(\"theta      =\", theta)\n",
        "print(\"sin(theta)=\",np.sin(theta))"
      ],
      "metadata": {
        "colab": {
          "base_uri": "https://localhost:8080/"
        },
        "id": "Ty-BLDXMykZw",
        "outputId": "08f3fe59-0b86-4aee-d206-f52fbfc422ec"
      },
      "execution_count": 20,
      "outputs": [
        {
          "output_type": "stream",
          "name": "stdout",
          "text": [
            "theta      = [0.         1.57079633 3.14159265]\n",
            "sin(theta)= [0.0000000e+00 1.0000000e+00 1.2246468e-16]\n"
          ]
        }
      ]
    }
  ]
}